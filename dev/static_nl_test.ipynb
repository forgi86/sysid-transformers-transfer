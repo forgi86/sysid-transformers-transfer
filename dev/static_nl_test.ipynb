{
 "cells": [
  {
   "cell_type": "code",
   "execution_count": null,
   "id": "a151cbb5",
   "metadata": {},
   "outputs": [],
   "source": [
    "import control\n",
    "import numpy as np\n",
    "import matplotlib.pyplot as plt"
   ]
  },
  {
   "cell_type": "code",
   "execution_count": null,
   "id": "ed273c28",
   "metadata": {},
   "outputs": [],
   "source": [
    "n_in = 1\n",
    "n_out = 1\n",
    "n_hidden = 32\n",
    "dtype = \"float32\""
   ]
  },
  {
   "cell_type": "code",
   "execution_count": null,
   "id": "8107e387",
   "metadata": {},
   "outputs": [],
   "source": [
    "def nn_fun(x):\n",
    "    out = x @ w1.transpose() + b1\n",
    "    out = np.tanh(out)\n",
    "    out = out @ w2.transpose() + b2\n",
    "    return out"
   ]
  },
  {
   "cell_type": "code",
   "execution_count": null,
   "id": "aee5ca7e",
   "metadata": {},
   "outputs": [],
   "source": []
  },
  {
   "cell_type": "code",
   "execution_count": null,
   "id": "8172f7e6",
   "metadata": {},
   "outputs": [],
   "source": [
    "#x.shape"
   ]
  },
  {
   "cell_type": "code",
   "execution_count": null,
   "id": "ddf45212",
   "metadata": {},
   "outputs": [],
   "source": [
    "x = np.linspace(-3, 3, 1000).reshape(-1, 1)\n",
    "n_in = 1\n",
    "n_out = 1\n",
    "n_hidden = 32\n",
    "plt.figure()\n",
    "for _ in range(10):\n",
    "    w1 = np.random.randn(n_hidden, n_in) / np.sqrt(n_in) *  1.0\n",
    "    b1 = np.random.randn(1, n_hidden)*1.0\n",
    "    w2 = np.random.randn(n_out, n_hidden) / np.sqrt(n_hidden) * 5/3\n",
    "    b2 = np.random.randn(1, n_out)*1.0\n",
    "\n",
    "    h_pre = x @ w1.transpose() + b1\n",
    "    h = np.tanh(h_pre)\n",
    "    #h = np.maximum(h_pre, 0)\n",
    "    out = h @ w2.transpose() + b2\n",
    "\n",
    "    #y_vec = nn_fun(x_vec)\n",
    "    plt.plot(x, out)"
   ]
  },
  {
   "cell_type": "code",
   "execution_count": null,
   "id": "4d03880b",
   "metadata": {},
   "outputs": [],
   "source": [
    "np.std(x @ w1.transpose())"
   ]
  },
  {
   "cell_type": "code",
   "execution_count": null,
   "id": "2c633c00",
   "metadata": {},
   "outputs": [],
   "source": [
    "#b1.shape"
   ]
  },
  {
   "cell_type": "code",
   "execution_count": null,
   "id": "a68f4158",
   "metadata": {},
   "outputs": [],
   "source": [
    "# Kaiming (He) initialization: divide by sqrt of fan in, multiply by previous nonlinearity\n",
    "n_in = 1\n",
    "n_out = 1\n",
    "n_hidden = 32\n",
    "bs = 1000\n",
    "w1 = np.random.randn(n_hidden, n_in) / np.sqrt(n_in) * 1.0\n",
    "b1 = np.random.randn(1, n_hidden)*0.0\n",
    "w2 = np.random.randn(n_out, n_hidden) / np.sqrt(n_hidden) * 5/3\n",
    "b2 = np.random.randn(1, n_out)*0.0\n",
    "\n",
    "x = np.random.randn(bs, n_in)\n",
    "\n",
    "h_pre = x @ w1.transpose() + b1\n",
    "h = np.tanh(h_pre)\n",
    "out = h @ w2.transpose() + b2\n",
    "\n",
    "h_pre.std(), h.std()*5/3, out.std()"
   ]
  },
  {
   "cell_type": "code",
   "execution_count": null,
   "id": "88a038ef",
   "metadata": {},
   "outputs": [],
   "source": [
    "#x_randn.shape,w1.shape"
   ]
  },
  {
   "cell_type": "code",
   "execution_count": null,
   "id": "6274655c",
   "metadata": {},
   "outputs": [],
   "source": [
    "bs = 100\n",
    "n_in = 40\n",
    "n_out = 30\n",
    "X = np.random.randn(bs, n_in) / np.sqrt(n_in)\n",
    "W = np.random.randn(n_out, n_in)\n",
    "Y = X @ W.transpose() *5/3\n",
    "Y.std()"
   ]
  },
  {
   "cell_type": "code",
   "execution_count": null,
   "id": "bf5e086d",
   "metadata": {},
   "outputs": [],
   "source": [
    "bs = 10\n",
    "n_in = 132\n",
    "n_hidden = 64\n",
    "n_out = 30\n",
    "X = np.random.randn(bs, n_in)\n",
    "W1 = np.random.randn(n_hidden, n_in) / np.sqrt(n_in) #* 5/3\n",
    "B1 = np.random.randn(1, n_hidden)\n",
    "W2 = np.random.randn(n_out, n_hidden) / np.sqrt(n_hidden) * 5/3\n",
    "B2 = np.random.randn(1, n_out)\n",
    "\n",
    "\n",
    "HP1 = X @ W1.transpose() + B1\n",
    "H1 = np.tanh(HP1)\n",
    "Y = H1 @ W2.transpose() + B2\n",
    "HP1.std(), H1.std(), Y.std()"
   ]
  },
  {
   "cell_type": "code",
   "execution_count": null,
   "id": "745b4f67",
   "metadata": {},
   "outputs": [],
   "source": [
    "np.std(HP1), np.std(H1)"
   ]
  },
  {
   "cell_type": "code",
   "execution_count": null,
   "id": "c12924bc",
   "metadata": {},
   "outputs": [],
   "source": [
    "plt.hist(HP1.ravel());"
   ]
  },
  {
   "cell_type": "code",
   "execution_count": null,
   "id": "2bd40791",
   "metadata": {},
   "outputs": [],
   "source": [
    "np.std(5/3*np.tanh(np.random.randn(1000)))"
   ]
  },
  {
   "cell_type": "code",
   "execution_count": null,
   "id": "f56d7963",
   "metadata": {},
   "outputs": [],
   "source": [
    "X = np.random.randn(10000) \n",
    "X_nl = np.tanh(X) * 5/3 \n",
    "np.std(X_nl) "
   ]
  },
  {
   "cell_type": "code",
   "execution_count": null,
   "id": "442e8fd1",
   "metadata": {},
   "outputs": [],
   "source": []
  },
  {
   "cell_type": "code",
   "execution_count": null,
   "id": "f3217547",
   "metadata": {},
   "outputs": [],
   "source": []
  }
 ],
 "metadata": {
  "kernelspec": {
   "display_name": "Python 3 (ipykernel)",
   "language": "python",
   "name": "python3"
  },
  "language_info": {
   "codemirror_mode": {
    "name": "ipython",
    "version": 3
   },
   "file_extension": ".py",
   "mimetype": "text/x-python",
   "name": "python",
   "nbconvert_exporter": "python",
   "pygments_lexer": "ipython3",
   "version": "3.10.9"
  }
 },
 "nbformat": 4,
 "nbformat_minor": 5
}
