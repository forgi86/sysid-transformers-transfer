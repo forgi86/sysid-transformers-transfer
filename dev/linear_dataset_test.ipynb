{
 "cells": [
  {
   "cell_type": "code",
   "execution_count": null,
   "id": "a151cbb5",
   "metadata": {},
   "outputs": [],
   "source": [
    "import control\n",
    "import numpy as np\n",
    "import matplotlib.pyplot as plt"
   ]
  },
  {
   "cell_type": "code",
   "execution_count": null,
   "id": "ed273c28",
   "metadata": {},
   "outputs": [],
   "source": [
    "nx = 5\n",
    "nu = 1\n",
    "ny = 2\n",
    "seq_len = 1000\n",
    "dtype = \"float32\""
   ]
  },
  {
   "cell_type": "code",
   "execution_count": null,
   "id": "45329ea5",
   "metadata": {},
   "outputs": [],
   "source": [
    "sys = control.drss(states=nx, inputs=nu, outputs=ny, strictly_proper=True)\n",
    "#sys.A = np.array([[0.0]])\n",
    "#sys.B = np.array([[0.0]])\n",
    "#sys.C = np.array([[0.0]])\n",
    "#sys.D = np.array([[1.0]])\n",
    "#control.tf(sys)"
   ]
  },
  {
   "cell_type": "code",
   "execution_count": null,
   "id": "7f55f619",
   "metadata": {},
   "outputs": [],
   "source": [
    "u = np.random.randn(nu, seq_len).astype(dtype)\n",
    "#y = sys(u) # returns the frequency response instead...\n",
    "y = control.forced_response(sys, T=None, U=u, X0=0.0)\n",
    "y = y.y.transpose().astype(dtype) # to (T, C)\n",
    "u = u.transpose() # to (T, C)"
   ]
  },
  {
   "cell_type": "code",
   "execution_count": null,
   "id": "8b457dfc",
   "metadata": {},
   "outputs": [],
   "source": [
    "y = (y - y.mean(axis=0))/(y.std(axis=0) + 1e-6) # normalize?"
   ]
  },
  {
   "cell_type": "code",
   "execution_count": null,
   "id": "1ddb6b43",
   "metadata": {},
   "outputs": [],
   "source": [
    "fig, ax = plt.subplots(2,1, sharex=True)\n",
    "ax[0].set_title(\"Input\")\n",
    "ax[0].plot(u[:, 0])\n",
    "ax[1].set_title(\"Output\")\n",
    "ax[1].plot(y[:, 0]);"
   ]
  },
  {
   "cell_type": "code",
   "execution_count": null,
   "id": "e788e8a6",
   "metadata": {},
   "outputs": [],
   "source": [
    "import torch\n",
    "from torch.utils.data import DataLoader, IterableDataset"
   ]
  },
  {
   "cell_type": "code",
   "execution_count": null,
   "id": "238614b5",
   "metadata": {},
   "outputs": [],
   "source": [
    "class LinearDynamicalDataset(IterableDataset):\n",
    "    def __init__(self, nx=5, nu=1, ny=1, seq_len=500, strictly_proper=True, dtype=\"float32\", normalize=True):\n",
    "        super(LinearDynamicalDataset).__init__()\n",
    "        self.nx = nx\n",
    "        self.nu = nu\n",
    "        self.ny = ny\n",
    "        self.seq_len = seq_len\n",
    "        self.strictly_proper = strictly_proper\n",
    "        self.dtype = dtype\n",
    "        self.normalize = normalize\n",
    "\n",
    "    def __iter__(self):\n",
    "        while True:  # infinite dataset\n",
    "        #for _ in range(1000):\n",
    "            sys = control.drss(states=self.nx,\n",
    "                               inputs=self.nu,\n",
    "                               outputs=self.ny,\n",
    "                               strictly_proper=self.strictly_proper)\n",
    "            u = np.random.randn(self.nu, self.seq_len).astype(self.dtype)  # C, T as python-control wants\n",
    "            y = control.forced_response(sys, T=None, U=u, X0=0.0)\n",
    "            u = u.transpose()  # T, C\n",
    "            y = y.y.transpose().astype(self.dtype)  # T, C\n",
    "            if self.normalize:\n",
    "                y = (y - y.mean(axis=0))/(y.std(axis=0))\n",
    "\n",
    "            yield torch.tensor(y), torch.tensor(u)"
   ]
  },
  {
   "cell_type": "code",
   "execution_count": null,
   "id": "82cac1a9",
   "metadata": {},
   "outputs": [],
   "source": [
    "train_ds = LinearDynamicalDataset(nx=5, nu=2, ny=3, seq_len=1000)\n",
    "train_dl = DataLoader(train_ds, batch_size=32)"
   ]
  },
  {
   "cell_type": "code",
   "execution_count": null,
   "id": "d94955e2",
   "metadata": {},
   "outputs": [],
   "source": [
    "batch_y, batch_u = next(iter(train_dl))"
   ]
  },
  {
   "cell_type": "code",
   "execution_count": null,
   "id": "5eb8982e",
   "metadata": {},
   "outputs": [],
   "source": [
    "batch_y.shape, batch_u.shape"
   ]
  }
 ],
 "metadata": {
  "kernelspec": {
   "display_name": "Python 3 (ipykernel)",
   "language": "python",
   "name": "python3"
  },
  "language_info": {
   "codemirror_mode": {
    "name": "ipython",
    "version": 3
   },
   "file_extension": ".py",
   "mimetype": "text/x-python",
   "name": "python",
   "nbconvert_exporter": "python",
   "pygments_lexer": "ipython3",
   "version": "3.10.10"
  }
 },
 "nbformat": 4,
 "nbformat_minor": 5
}
