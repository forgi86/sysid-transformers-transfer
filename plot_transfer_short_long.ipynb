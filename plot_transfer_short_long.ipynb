{
 "cells": [
  {
   "cell_type": "code",
   "execution_count": null,
   "metadata": {},
   "outputs": [],
   "source": [
    "import matplotlib as mpl\n",
    "import matplotlib.pyplot as plt\n",
    "from plot_util import set_size, tex_fonts, LINEWIDTH_IFAC_CONF\n",
    "import numpy as np\n",
    "import wandb"
   ]
  },
  {
   "cell_type": "code",
   "execution_count": null,
   "metadata": {},
   "outputs": [],
   "source": [
    "mpl.style.use('default')\n",
    "plt.rcParams.update(tex_fonts) # use latex fonts\n",
    "plt.rcParams.update({\"axes.grid\": True}) "
   ]
  },
  {
   "cell_type": "code",
   "execution_count": null,
   "metadata": {},
   "outputs": [],
   "source": [
    "api = wandb.Api()"
   ]
  },
  {
   "cell_type": "code",
   "execution_count": null,
   "metadata": {},
   "outputs": [],
   "source": [
    "runs = api.runs(\"forgi86/sysid-transformers-transfer\", filters={\"display_name\": \"1000_from_scratch_wh\"})\n",
    "run = runs[0]\n",
    "history = run.scan_history()\n",
    "loss_1000_from_scratch = [row[\"loss\"] for row in history]\n",
    "\n",
    "runs = api.runs(\"forgi86/sysid-transformers-transfer\", filters={\"display_name\": \"100_from_scratch_wh\"})\n",
    "run = runs[0]\n",
    "history = run.scan_history()\n",
    "loss_100_from_scratch = [row[\"loss\"] for row in history]\n",
    "\n",
    "runs = api.runs(\"forgi86/sysid-transformers-transfer\", filters={\"display_name\": \"1000_from_100\"})\n",
    "run = runs[0]\n",
    "history = run.scan_history()\n",
    "loss_1000_from_100 = [row[\"loss\"] for row in history]\n"
   ]
  },
  {
   "cell_type": "code",
   "execution_count": null,
   "metadata": {},
   "outputs": [],
   "source": [
    "\n",
    "fig, ax = plt.subplots(1, 1, figsize=set_size(LINEWIDTH_IFAC_CONF, fraction=1.0))\n",
    "ax.plot(np.arange(len(loss_1000_from_scratch))*100, loss_1000_from_scratch, color=\"C1\", label=\"$n=1000$, from scratch\")\n",
    "ax.plot(np.arange(len(loss_100_from_scratch))*100, loss_100_from_scratch, color=\"C0\", label=\"$n=100$, from scratch\")\n",
    "ax.plot(np.arange(len(loss_1000_from_100))*100, loss_1000_from_100, color=\"C2\", label=\"$n=1000$, pre-trained\")\n",
    "ax.set_xlabel(\"Iterations\")\n",
    "ax.set_ylabel(\"Loss\")\n",
    "ax.legend(loc=\"upper right\")\n",
    "plt.tight_layout()\n",
    "plt.savefig(\"wh_pretrain_iterations.pdf\")"
   ]
  }
 ],
 "metadata": {
  "kernelspec": {
   "display_name": "dev",
   "language": "python",
   "name": "python3"
  },
  "language_info": {
   "codemirror_mode": {
    "name": "ipython",
    "version": 3
   },
   "file_extension": ".py",
   "mimetype": "text/x-python",
   "name": "python",
   "nbconvert_exporter": "python",
   "pygments_lexer": "ipython3",
   "version": "3.11.0"
  }
 },
 "nbformat": 4,
 "nbformat_minor": 2
}
